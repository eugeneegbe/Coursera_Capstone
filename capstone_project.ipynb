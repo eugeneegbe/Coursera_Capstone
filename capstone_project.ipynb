{
 "cells": [
  {
   "cell_type": "markdown",
   "metadata": {},
   "source": [
    "# Capstone Project: Battle of Neighborhoods  - Exploring the city of Berlin"
   ]
  },
  {
   "cell_type": "markdown",
   "metadata": {},
   "source": [
    "## 1. Introduction"
   ]
  },
  {
   "cell_type": "markdown",
   "metadata": {},
   "source": [
    "Given that within the last couple of weeks we have been empowered with exploring geo-data, and also how to use the Fourquare API to find and explore places, there are many projects which one could carrou out in the light of exploring neighborhoods in or around a particular area.\n",
    "\n",
    "With all these in mind, we are going to be making use of the Foursquare API funcationality to be able to explore places in the city of Berlin and be able to recommend where someone could open a restaurant based on some certain parameters which we will be explaining in the project.\n",
    "\n",
    "Here we will gather and consolidate the Borough and neighborhoods in Berlin, the prices of rental facilities and also so Georgraphical coordinates of the above mentioned to be able to use this informationa nd recommend a better place where someone may open a new restaurant."
   ]
  },
  {
   "cell_type": "markdown",
   "metadata": {},
   "source": [
    "## 1.1. Business problem"
   ]
  },
  {
   "cell_type": "markdown",
   "metadata": {},
   "source": [
    "The city chosen to answer the initial question is **Berlin**. Being the capital and largest city of Germany by both area and population\n",
    "and also one of the most populated cities in the European Union according to population within city limits. Berlin remains a continously built urban city with a population of 3,769,495 inhabitants as of 31 December 2019<sup>[1](https://www.statistik-berlin-brandenburg.de/publikationen/stat_berichte/2020/SB_A01-05-00_2019h02_BE.pdf)</sup>\n",
    "\n",
    "Berlin is a world city of culture, politics, media and science. Its economy is based on high-tech firms and the service sector, encompassing a diverse range of creative industries, research facilities, media corporations and convention venues.\n",
    "\n",
    "Being amongst the top five leading cities in Germany, Berlin is blessed with strength in the areas of commerce, design, education, entertainment, fashion, finance, healthcare, media, services, research and tourism and in terms of GDP, happens to be the sixth largest economy in the EU.\n",
    "\n",
    "Berlin is therefore considered as one of the big motors in Germany."
   ]
  },
  {
   "cell_type": "markdown",
   "metadata": {},
   "source": [
    "**Let us no see the neighborhoods in Berlin and their distributions**"
   ]
  },
  {
   "cell_type": "markdown",
   "metadata": {},
   "source": [
    "![](https://upload.wikimedia.org/wikipedia/commons/d/d8/Berlin_Subdivisions.svg)"
   ]
  },
  {
   "cell_type": "markdown",
   "metadata": {},
   "source": [
    "After this short presentation, I suppose that Berlin is place with a great competition, especially, if you want to open a restaurant so I would like to help a possible stakeholder to understand better the town and the market with useful insights."
   ]
  },
  {
   "cell_type": "markdown",
   "metadata": {},
   "source": [
    "## 1.2. Target Audience"
   ]
  },
  {
   "cell_type": "markdown",
   "metadata": {},
   "source": [
    "The audience we will be targeting would be amongst any of the following."
   ]
  },
  {
   "cell_type": "markdown",
   "metadata": {},
   "source": [
    "1. A business entrepreneur that wants open a new restaurant in Berlin.\n",
    "\n",
    "2. Business Analyst or Data Scientists, who wish to analyze the neighborhoods of Berlin using python, Jupiter notebook and some machine learning techniques.\n",
    "\n",
    "3. Anyone who might be asking questions about data and wish to have an idea, how beneficial it is to open a restaurant and what are the pros and cons of this business."
   ]
  },
  {
   "cell_type": "markdown",
   "metadata": {},
   "source": [
    "## 2.1 Data "
   ]
  },
  {
   "cell_type": "markdown",
   "metadata": {},
   "source": [
    "some information about the area of Berlin such as borough\\districts, population, latitude\\longitude etc… \n",
    "\n",
    "So we could think of looking at Wikipedia for this:"
   ]
  },
  {
   "cell_type": "markdown",
   "metadata": {},
   "source": [
    "https://en.wikipedia.org/wiki/Boroughs_and_neighborhoods_of_Berlin\n"
   ]
  },
  {
   "cell_type": "markdown",
   "metadata": {},
   "source": [
    "We will need to also get the coordinates of the boroughs and also the neigborhoods with their coordinates into a dataframe."
   ]
  },
  {
   "cell_type": "markdown",
   "metadata": {},
   "source": [
    "Next I had to look at the price ranges of lands in the different boroughs of Berlin here https://www.invest-ab.com/sell-property-flat-berlin/berlin-real-estate-prices-2020/\n"
   ]
  },
  {
   "cell_type": "markdown",
   "metadata": {},
   "source": [
    "The final step consisted of getting the coordinates of the different neighborhoods and add into the dataframe."
   ]
  },
  {
   "cell_type": "markdown",
   "metadata": {},
   "source": [
    "The coordinates data were gotten from https://maps.princeton.edu/download/file/tufts-berlin-bezirke-boroughs01-geojson.json"
   ]
  },
  {
   "cell_type": "markdown",
   "metadata": {},
   "source": [
    "Th final dataset is shown on the image below\n",
    "\n",
    "![](./capstone_data.png)"
   ]
  },
  {
   "cell_type": "markdown",
   "metadata": {},
   "source": [
    "For more insight on how I built the data You can have a look at the notebook https://github.com/eugeneegbe/Coursera_Capstone/blob/main/Prepare_capstone_data.ipynb\n"
   ]
  },
  {
   "cell_type": "markdown",
   "metadata": {},
   "source": [
    "## 3. Methodology "
   ]
  },
  {
   "cell_type": "markdown",
   "metadata": {},
   "source": [
    "### 3.1 Business Understanding"
   ]
  },
  {
   "cell_type": "markdown",
   "metadata": {},
   "source": [
    "The main aim of this project is to look around the neighboorhoods in Berlin to be able to find and recommend a restaurant\n",
    "the best neighborhood to open a restaurant."
   ]
  },
  {
   "cell_type": "markdown",
   "metadata": {},
   "source": [
    "### 3.2. Analytical Approach"
   ]
  },
  {
   "cell_type": "markdown",
   "metadata": {},
   "source": [
    "Berlin has a totoal of **85** neighborhoods with **11** boroughs and these borughs have similarities and differences. We will therefore be clustering these neighborhoods(In terms of their boroughs) according to their similarites which in this case are the number and type of restaurants.\n",
    "\n",
    "After some steps of exploratory data analysis, the K-Means algorithm will be used to extract the clusters, produce a map and the reuslt will be the besis for the argument."
   ]
  },
  {
   "cell_type": "markdown",
   "metadata": {},
   "source": [
    "### 3.3. Data Exploration"
   ]
  },
  {
   "cell_type": "markdown",
   "metadata": {},
   "source": [
    "For the exploratory data analysis, the python library **[Folium](https://python-visualization.github.io/folium/)** is used to create an interactive map using the coordinate data.\n",
    "\n",
    "The following image shows the centroid points of the different boroughs in Berlin as visualized with the folium library"
   ]
  },
  {
   "cell_type": "markdown",
   "metadata": {},
   "source": [
    "![image](./folium_1.png)"
   ]
  },
  {
   "cell_type": "markdown",
   "metadata": {},
   "source": [
    "After some processing, we are able to extract the different venues which offer food in Berlin which are shown below on our folium leaf map"
   ]
  },
  {
   "cell_type": "code",
   "execution_count": 5,
   "metadata": {},
   "outputs": [
    {
     "name": "stdout",
     "output_type": "stream",
     "text": [
      "/bin/bash: -c: line 0: syntax error near unexpected token `('\n",
      "/bin/bash: -c: line 0: `[image 2]('./sorted_data.png')'\n"
     ]
    }
   ],
   "source": [
    "![image](./follium_2.png)"
   ]
  },
  {
   "cell_type": "markdown",
   "metadata": {},
   "source": [
    "Before continuing, we could want to look at how many of such  businesses groups are found in our area of interest.\n",
    "To do this we try to group these by categories and count to see which business frequent's the place more. This is shown in the image below:"
   ]
  },
  {
   "cell_type": "markdown",
   "metadata": {},
   "source": [
    "![image 2](./sorted_data.png)"
   ]
  },
  {
   "cell_type": "markdown",
   "metadata": {},
   "source": [
    "From the result we have, we find out that the most frequent category of businesses are **German Rrestaurant, Italian Restaurant and Café** are the most frequent categories in our area of interest. We can just keep that in mind while we continue our analysis."
   ]
  },
  {
   "cell_type": "markdown",
   "metadata": {},
   "source": [
    "### 3.4. Clustering"
   ]
  },
  {
   "cell_type": "markdown",
   "metadata": {},
   "source": [
    "To analyze which part of Berlin is good to open a new restaurant, I will use a K-means clustering: a type of unsupervised learning, which is used when we have unlabeled data. Our goal here is to find the groups in the data, with the number of groups which we specify at the beginning of our processing named **k** \n",
    "\n",
    "This algorithm is intended to work iteratively to assign each of our data points to each of the k-groups that are provided based on certain features which we will be specifying. These points will be clasified based on feature similarities."
   ]
  },
  {
   "cell_type": "markdown",
   "metadata": {},
   "source": [
    "Our first step will be to look for the best value for K. We will be usng one of the most famouse methods called the elbow method\n",
    "\n",
    "The result from our analysis is shown below:"
   ]
  },
  {
   "cell_type": "code",
   "execution_count": 2,
   "metadata": {},
   "outputs": [
    {
     "name": "stdout",
     "output_type": "stream",
     "text": [
      "/bin/bash: -c: line 0: syntax error near unexpected token `./best_k.png'\n",
      "/bin/bash: -c: line 0: `[image](./best_k.png)'\n"
     ]
    }
   ],
   "source": [
    "![image](./best_k.png)"
   ]
  },
  {
   "cell_type": "markdown",
   "metadata": {},
   "source": [
    "Based on the above visualization, we can notice that the best K would be between 4 and 5. we will take **K=5**"
   ]
  },
  {
   "cell_type": "markdown",
   "metadata": {},
   "source": [
    "## 4. Result and Discussion"
   ]
  },
  {
   "cell_type": "markdown",
   "metadata": {},
   "source": [
    "Before we take a look at each cluster, we will have to visualize the clusters on a folium map."
   ]
  },
  {
   "cell_type": "code",
   "execution_count": 3,
   "metadata": {},
   "outputs": [
    {
     "name": "stdout",
     "output_type": "stream",
     "text": [
      "/bin/bash: -c: line 0: syntax error near unexpected token `./cluster_view.png'\n",
      "/bin/bash: -c: line 0: `[image](./cluster_view.png)'\n"
     ]
    }
   ],
   "source": [
    "![image](./cluster_view.png)"
   ]
  },
  {
   "cell_type": "markdown",
   "metadata": {},
   "source": [
    "As we can see, each cluster belong to a color with different characteristics."
   ]
  },
  {
   "cell_type": "markdown",
   "metadata": {},
   "source": [
    "**Cluster 1**"
   ]
  },
  {
   "cell_type": "code",
   "execution_count": 6,
   "metadata": {},
   "outputs": [
    {
     "name": "stdout",
     "output_type": "stream",
     "text": [
      "/bin/bash: -c: line 0: syntax error near unexpected token `./cluster_1.png'\n",
      "/bin/bash: -c: line 0: `[image](./cluster_1.png)'\n"
     ]
    }
   ],
   "source": [
    "![image](./cluster_1.png)"
   ]
  },
  {
   "cell_type": "markdown",
   "metadata": {},
   "source": [
    "**Cluster 2**"
   ]
  },
  {
   "cell_type": "code",
   "execution_count": 10,
   "metadata": {},
   "outputs": [
    {
     "name": "stdout",
     "output_type": "stream",
     "text": [
      "/bin/bash: -c: line 0: syntax error near unexpected token `./cluster_2.png'\n",
      "/bin/bash: -c: line 0: `[image](./cluster_2.png)'\n"
     ]
    }
   ],
   "source": [
    "![image](./cluster_2.png)"
   ]
  },
  {
   "cell_type": "markdown",
   "metadata": {},
   "source": [
    "**Cluster 3**"
   ]
  },
  {
   "cell_type": "markdown",
   "metadata": {},
   "source": [
    "![image](./cluster_3.png)"
   ]
  },
  {
   "cell_type": "markdown",
   "metadata": {},
   "source": [
    "**Cluster 4**"
   ]
  },
  {
   "cell_type": "markdown",
   "metadata": {},
   "source": [
    "![image](./cluster_1.png)"
   ]
  },
  {
   "cell_type": "markdown",
   "metadata": {},
   "source": [
    "**Cluster 5**"
   ]
  },
  {
   "cell_type": "markdown",
   "metadata": {},
   "source": [
    "![image](./cluster_5.png)"
   ]
  },
  {
   "cell_type": "markdown",
   "metadata": {},
   "source": [
    "At this point, we have come to the end of our analysis. We tried to consolidate a realistic data analysis scenario using techniques of web-scrapping and looking out for potential data which may be usefull to build a dataset from the boroughs and neighborhoods in Berlin. This was done using a few python libraries like Folium and GeoPandas, Foursquare API"
   ]
  },
  {
   "cell_type": "markdown",
   "metadata": {},
   "source": [
    "With all of these, we can we can present the following arguments:"
   ]
  },
  {
   "cell_type": "markdown",
   "metadata": {},
   "source": [
    "1. The most common venuea in Berlin are German Restaurants.\n",
    "2. Based on clusters 1 and 2 the majority of these restaurants are found in the Boroughs 3, 0, 6 respectively\n",
    "   Charlottenburg-Wilmersdorf, Mitte, Tempelhof-Schöneberg.\n",
    "3. Based on the graphical representation, Pankow would be a good place to open a restaurant such as an Italian restaurant as the price per square meter is relatively average in that Borough.\n",
    "4. If our stakeholder would think that there are too many italian restaurants, in an aread, we could easily recommend them opening a Bistro restaurant in cluster 5. "
   ]
  },
  {
   "cell_type": "markdown",
   "metadata": {},
   "source": [
    "## 5. Conclusion"
   ]
  },
  {
   "cell_type": "markdown",
   "metadata": {},
   "source": [
    "As the analysis is performed on small set of data, we can achieve better results by going further to look at each neighborhood in deep. which will definitely give room for us to have a broad spectrum.\n",
    "\n",
    "Anyway Berlin is an international city with many different types of new restaurant business to offer and I think we have gone through the process of identifying the business problem, specifying the data required, clean the datasets, performing a machine learning algorithm using k-means clustering and providing some useful tips to our stakeholder."
   ]
  },
  {
   "cell_type": "markdown",
   "metadata": {},
   "source": [
    "## 6. Next Developments"
   ]
  },
  {
   "cell_type": "markdown",
   "metadata": {},
   "source": [
    "Next steps I would recommend for advancement in the project could be:\n",
    "\n",
    "- Use a different Venue API with more data. Unfortunately foursquare isn’t pretty famous in Berlin as it could not give us more data about linking the neighborhoods to the boroughs.\n",
    "\n",
    "- Identifying and using up-to-date data about the Berlin neighborhoods\n",
    "\n",
    "- Do an intensive neighborhood-based clustering of the updated-data"
   ]
  },
  {
   "cell_type": "code",
   "execution_count": null,
   "metadata": {},
   "outputs": [],
   "source": []
  }
 ],
 "metadata": {
  "kernelspec": {
   "display_name": "Python",
   "language": "python",
   "name": "conda-env-python-py"
  },
  "language_info": {
   "codemirror_mode": {
    "name": "ipython",
    "version": 3
   },
   "file_extension": ".py",
   "mimetype": "text/x-python",
   "name": "python",
   "nbconvert_exporter": "python",
   "pygments_lexer": "ipython3",
   "version": "3.6.12"
  }
 },
 "nbformat": 4,
 "nbformat_minor": 4
}
