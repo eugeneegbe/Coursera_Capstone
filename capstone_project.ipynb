{
 "cells": [
  {
   "cell_type": "markdown",
   "metadata": {},
   "source": [
    "# Capstone Project: Battle of Neighborhoods  - Exploring the city of Berlin"
   ]
  },
  {
   "cell_type": "markdown",
   "metadata": {},
   "source": [
    "## 1. Introduction"
   ]
  },
  {
   "cell_type": "markdown",
   "metadata": {},
   "source": [
    "Given that within the last couple of weeks we have been empowered with exploring geo-data, and also how to use the Fourquare API to find and explore places, there are many projects which one could carrou out in the light of exploring neighborhoods in or around a particular area.\n",
    "\n",
    "With all these in mind, we are going to be making use of the Foursquare API funcationality to be able to explore places in the city of Berlin and be able to recommend where someone could open a restaurant based on some certain parameters which we will be explaining in the project.\n",
    "\n",
    "Here we will gather and consolidate the Borough and neighborhoods in Berlin, the prices of rental facilities and also so Georgraphical coordinates of the above mentioned to be able to use this informationa nd recommend a better place where someone may open a new restaurant."
   ]
  },
  {
   "cell_type": "markdown",
   "metadata": {},
   "source": [
    "## 1.1. Business problem"
   ]
  },
  {
   "cell_type": "markdown",
   "metadata": {},
   "source": [
    "The city chosen to answer the initial question is **Berlin**. Being the capital and largest city of Germany by both area and population\n",
    "and also one of the most populated cities in the European Union according to population within city limits. Berlin remains a continously built urban city with a population of 3,769,495 inhabitants as of 31 December 2019<sup>[1](https://www.statistik-berlin-brandenburg.de/publikationen/stat_berichte/2020/SB_A01-05-00_2019h02_BE.pdf)</sup>\n",
    "\n",
    "Berlin is a world city of culture, politics, media and science. Its economy is based on high-tech firms and the service sector, encompassing a diverse range of creative industries, research facilities, media corporations and convention venues.\n",
    "\n",
    "Being amongst the top five leading cities in Germany, Berlin is blessed with strength in the areas of commerce, design, education, entertainment, fashion, finance, healthcare, media, services, research and tourism and in terms of GDP, happens to be the sixth largest economy in the EU.\n",
    "\n",
    "Berlin is therefore considered as one of the big motors in Germany."
   ]
  },
  {
   "cell_type": "markdown",
   "metadata": {},
   "source": [
    "**Let us no see the neighborhoods in Berlin and their distributions**"
   ]
  },
  {
   "cell_type": "markdown",
   "metadata": {},
   "source": [
    "![](https://upload.wikimedia.org/wikipedia/commons/d/d8/Berlin_Subdivisions.svg)"
   ]
  },
  {
   "cell_type": "markdown",
   "metadata": {},
   "source": [
    "After this short presentation, I suppose that Berlin is place with a great competition, especially, if you want to open a restaurant so I would like to help a possible stakeholder to understand better the town and the market with useful insights."
   ]
  },
  {
   "cell_type": "markdown",
   "metadata": {},
   "source": [
    "## 1.2. Target Audience"
   ]
  },
  {
   "cell_type": "markdown",
   "metadata": {},
   "source": [
    "The audience we will be targeting would be amongst any of the following."
   ]
  },
  {
   "cell_type": "markdown",
   "metadata": {},
   "source": [
    "1. A business entrepreneur that wants open a new restaurant in Berlin.\n",
    "\n",
    "2. Business Analyst or Data Scientists, who wish to analyze the neighborhoods of Berlin using python, Jupiter notebook and some machine learning techniques.\n",
    "\n",
    "3. Anyone who might be asking questions about data and wish to have an idea, how beneficial it is to open a restaurant and what are the pros and cons of this business."
   ]
  },
  {
   "cell_type": "markdown",
   "metadata": {},
   "source": [
    "## 2.1 Data "
   ]
  },
  {
   "cell_type": "markdown",
   "metadata": {},
   "source": [
    "some information about the area of Berlin such as borough\\districts, population, latitude\\longitude etc… \n",
    "\n",
    "So we could think of looking at Wikipedia for this:"
   ]
  },
  {
   "cell_type": "markdown",
   "metadata": {},
   "source": [
    "https://en.wikipedia.org/wiki/Boroughs_and_neighborhoods_of_Berlin\n"
   ]
  },
  {
   "cell_type": "markdown",
   "metadata": {},
   "source": [
    "We will need to also get the coordinates of the boroughs and also the neigborhoods with their coordinates into a dataframe."
   ]
  },
  {
   "cell_type": "markdown",
   "metadata": {},
   "source": [
    "Next I had to look at the price ranges of lands in the different boroughs of Berlin here https://www.invest-ab.com/sell-property-flat-berlin/berlin-real-estate-prices-2020/\n"
   ]
  },
  {
   "cell_type": "markdown",
   "metadata": {},
   "source": [
    "The final step consisted of getting the coordinates of the different neighborhoods and add into the dataframe."
   ]
  },
  {
   "cell_type": "markdown",
   "metadata": {},
   "source": [
    "The coordinates data were gotten from https://maps.princeton.edu/download/file/tufts-berlin-bezirke-boroughs01-geojson.json"
   ]
  },
  {
   "cell_type": "markdown",
   "metadata": {},
   "source": [
    "Th final dataset is shown on the image below\n",
    "\n",
    "![](./capstone_data.png)"
   ]
  },
  {
   "cell_type": "markdown",
   "metadata": {},
   "source": [
    "For more insight on how I built the data You can have a look at the notebook https://github.com/eugeneegbe/Coursera_Capstone/blob/main/Prepare_capstone_data.ipynb\n"
   ]
  },
  {
   "cell_type": "code",
   "execution_count": null,
   "metadata": {},
   "outputs": [],
   "source": []
  }
 ],
 "metadata": {
  "kernelspec": {
   "display_name": "Python",
   "language": "python",
   "name": "conda-env-python-py"
  },
  "language_info": {
   "codemirror_mode": {
    "name": "ipython",
    "version": 3
   },
   "file_extension": ".py",
   "mimetype": "text/x-python",
   "name": "python",
   "nbconvert_exporter": "python",
   "pygments_lexer": "ipython3",
   "version": "3.6.12"
  }
 },
 "nbformat": 4,
 "nbformat_minor": 4
}
